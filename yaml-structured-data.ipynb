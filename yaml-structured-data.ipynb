{
 "cells": [
  {
   "cell_type": "markdown",
   "metadata": {
    "slideshow": {
     "slide_type": "slide"
    }
   },
   "source": [
    "# Strukturierte Daten mit YAML\n",
    "\n",
    "> https://github.com/SpotlightKid/yaml-structured-data.git"
   ]
  },
  {
   "cell_type": "markdown",
   "metadata": {
    "slideshow": {
     "slide_type": "slide"
    }
   },
   "source": [
    "YAML: YAML Ain't Markup Language\n",
    "\n",
    "http://yaml.org/\n",
    "\n",
    "Python Library: PyYAML\n",
    "    \n",
    "http://pyyaml.org/"
   ]
  },
  {
   "cell_type": "markdown",
   "metadata": {
    "slideshow": {
     "slide_type": "slide"
    }
   },
   "source": [
    "## PyYAML installieren"
   ]
  },
  {
   "cell_type": "markdown",
   "metadata": {
    "slideshow": {
     "slide_type": "fragment"
    }
   },
   "source": [
    "```\n",
    "$ pip install PyYAML\n",
    "```"
   ]
  },
  {
   "cell_type": "markdown",
   "metadata": {
    "slideshow": {
     "slide_type": "slide"
    }
   },
   "source": [
    "## Module importieren"
   ]
  },
  {
   "cell_type": "code",
   "execution_count": 18,
   "metadata": {
    "collapsed": false,
    "slideshow": {
     "slide_type": "fragment"
    }
   },
   "outputs": [],
   "source": [
    "import yaml\n",
    "from collections import namedtuple\n",
    "from IPython.lib.pretty import pprint"
   ]
  },
  {
   "cell_type": "markdown",
   "metadata": {
    "slideshow": {
     "slide_type": "slide"
    }
   },
   "source": [
    "## Daten einlesen"
   ]
  },
  {
   "cell_type": "code",
   "execution_count": 19,
   "metadata": {
    "collapsed": false,
    "slideshow": {
     "slide_type": "fragment"
    }
   },
   "outputs": [
    {
     "name": "stdout",
     "output_type": "stream",
     "text": [
      "-\n",
      "  title: Der Blade Runner\n",
      "  original: Blade Runner\n",
      "  director: Ridley Scott\n",
      "  year: 1982\n",
      "  url: http://www.imdb.com/title/tt0083658\n",
      "- title: Der Wüstenplanet\n",
      "  original: Dune\n",
      "  director: David Lynch\n",
      "  year: 1984\n",
      "  url: http://www.imdb.com/title/tt0087182\n",
      "- title: Terminator\n",
      "  original: The Terminator\n",
      "  director: James Cameron\n",
      "  year: 1984\n",
      "  url: http://www.imdb.com/title/tt0088247\n",
      "\n"
     ]
    }
   ],
   "source": [
    "with open('movies.yml') as fp:\n",
    "    yamldata = fp.read()\n",
    "\n",
    "print(yamldata)"
   ]
  },
  {
   "cell_type": "markdown",
   "metadata": {
    "slideshow": {
     "slide_type": "slide"
    }
   },
   "source": [
    "## De-Serialisierung"
   ]
  },
  {
   "cell_type": "code",
   "execution_count": 20,
   "metadata": {
    "collapsed": false,
    "slideshow": {
     "slide_type": "fragment"
    }
   },
   "outputs": [
    {
     "name": "stdout",
     "output_type": "stream",
     "text": [
      "[{'director': 'Ridley Scott',\n",
      "  'original': 'Blade Runner',\n",
      "  'title': 'Der Blade Runner',\n",
      "  'url': 'http://www.imdb.com/title/tt0083658',\n",
      "  'year': 1982},\n",
      " {'director': 'David Lynch',\n",
      "  'original': 'Dune',\n",
      "  'title': 'Der Wüstenplanet',\n",
      "  'url': 'http://www.imdb.com/title/tt0087182',\n",
      "  'year': 1984},\n",
      " {'director': 'James Cameron',\n",
      "  'original': 'The Terminator',\n",
      "  'title': 'Terminator',\n",
      "  'url': 'http://www.imdb.com/title/tt0088247',\n",
      "  'year': 1984}]\n"
     ]
    }
   ],
   "source": [
    "\n",
    "moviedata = yaml.load(yamldata)\n",
    "pprint(moviedata)\n"
   ]
  },
  {
   "cell_type": "markdown",
   "metadata": {
    "slideshow": {
     "slide_type": "slide"
    }
   },
   "source": [
    "## Objekt-Mapping"
   ]
  },
  {
   "cell_type": "code",
   "execution_count": 21,
   "metadata": {
    "collapsed": false,
    "slideshow": {
     "slide_type": "fragment"
    }
   },
   "outputs": [
    {
     "name": "stdout",
     "output_type": "stream",
     "text": [
      "[Movie(year=1982, url='http://www.imdb.com/title/tt0083658', original='Blade Runner', director='Ridley Scott', title='Der Blade Runner'),\n",
      " Movie(year=1984, url='http://www.imdb.com/title/tt0087182', original='Dune', director='David Lynch', title='Der Wüstenplanet'),\n",
      " Movie(year=1984, url='http://www.imdb.com/title/tt0088247', original='The Terminator', director='James Cameron', title='Terminator')]\n"
     ]
    }
   ],
   "source": [
    "fields = moviedata[0].keys()\n",
    "Movie = namedtuple('Movie', fields)\n",
    "movies = [Movie(**data) for data in moviedata]\n",
    "pprint(movies)"
   ]
  },
  {
   "cell_type": "markdown",
   "metadata": {
    "slideshow": {
     "slide_type": "slide"
    }
   },
   "source": [
    "## Benutzung"
   ]
  },
  {
   "cell_type": "code",
   "execution_count": 22,
   "metadata": {
    "collapsed": false,
    "slideshow": {
     "slide_type": "fragment"
    }
   },
   "outputs": [
    {
     "name": "stdout",
     "output_type": "stream",
     "text": [
      "David Lynch\n",
      "http://www.imdb.com/title/tt0076759/\n"
     ]
    }
   ],
   "source": [
    "print(movies[1].director)\n",
    "\n",
    "movies.append(Movie(title=\"Star Wars\", original=\"Star Wars\", year=1977,\n",
    "                    director=\"George Lucas\",\n",
    "                    url=\"http://www.imdb.com/title/tt0076759/\"))\n",
    "\n",
    "print(movies[-1].url)\n"
   ]
  },
  {
   "cell_type": "markdown",
   "metadata": {
    "slideshow": {
     "slide_type": "slide"
    }
   },
   "source": [
    "## Serialisierung\n",
    "\n",
    "### Erster Versuch"
   ]
  },
  {
   "cell_type": "code",
   "execution_count": 23,
   "metadata": {
    "collapsed": false,
    "slideshow": {
     "slide_type": "fragment"
    }
   },
   "outputs": [
    {
     "name": "stdout",
     "output_type": "stream",
     "text": [
      "- !!python/object/new:__main__.Movie [1982, 'http://www.imdb.com/title/tt0083658',\n",
      "  Blade Runner, Ridley Scott, Der Blade Runner]\n",
      "- !!python/object/new:__main__.Movie [1984, 'http://www.imdb.com/title/tt0087182',\n",
      "  Dune, David Lynch, \"Der W\\xFCstenplanet\"]\n",
      "- !!python/object/new:__main__.Movie [1984, 'http://www.imdb.com/title/tt0088247',\n",
      "  The Terminator, James Cameron, Terminator]\n",
      "- !!python/object/new:__main__.Movie [1977, 'http://www.imdb.com/title/tt0076759/',\n",
      "  Star Wars, George Lucas, Star Wars]\n",
      "\n"
     ]
    },
    {
     "data": {
      "text/plain": [
       "True"
      ]
     },
     "execution_count": 23,
     "metadata": {},
     "output_type": "execute_result"
    }
   ],
   "source": [
    "yamldata = yaml.dump(movies)\n",
    "print(yamldata)\n",
    "isinstance(yaml.load(yamldata)[0], Movie)"
   ]
  },
  {
   "cell_type": "markdown",
   "metadata": {
    "slideshow": {
     "slide_type": "slide"
    }
   },
   "source": [
    "### Zweiter Versuch"
   ]
  },
  {
   "cell_type": "code",
   "execution_count": 24,
   "metadata": {
    "collapsed": false,
    "slideshow": {
     "slide_type": "fragment"
    }
   },
   "outputs": [
    {
     "name": "stdout",
     "output_type": "stream",
     "text": [
      "- {director: Ridley Scott, original: Blade Runner, title: Der Blade Runner, url: 'http://www.imdb.com/title/tt0083658',\n",
      "  year: 1982}\n",
      "- {director: David Lynch, original: Dune, title: \"Der W\\xFCstenplanet\", url: 'http://www.imdb.com/title/tt0087182',\n",
      "  year: 1984}\n",
      "- {director: James Cameron, original: The Terminator, title: Terminator, url: 'http://www.imdb.com/title/tt0088247',\n",
      "  year: 1984}\n",
      "- {director: George Lucas, original: Star Wars, title: Star Wars, url: 'http://www.imdb.com/title/tt0076759/',\n",
      "  year: 1977}\n",
      "\n"
     ]
    }
   ],
   "source": [
    "yamldata = yaml.dump([dict(zip(fields, m)) for m in movies])\n",
    "print(yamldata)"
   ]
  },
  {
   "cell_type": "markdown",
   "metadata": {
    "slideshow": {
     "slide_type": "slide"
    }
   },
   "source": [
    "### Dritter Versuch"
   ]
  },
  {
   "cell_type": "code",
   "execution_count": 25,
   "metadata": {
    "collapsed": false,
    "slideshow": {
     "slide_type": "fragment"
    }
   },
   "outputs": [
    {
     "name": "stdout",
     "output_type": "stream",
     "text": [
      "- director: Ridley Scott\n",
      "  original: Blade Runner\n",
      "  title: Der Blade Runner\n",
      "  url: http://www.imdb.com/title/tt0083658\n",
      "  year: 1982\n",
      "- director: David Lynch\n",
      "  original: Dune\n",
      "  title: \"Der W\\xFCstenplanet\"\n",
      "  url: http://www.imdb.com/title/tt0087182\n",
      "  year: 1984\n",
      "- director: James Cameron\n",
      "  original: The Terminator\n",
      "  title: Terminator\n",
      "  url: http://www.imdb.com/title/tt0088247\n",
      "  year: 1984\n",
      "- director: George Lucas\n",
      "  original: Star Wars\n",
      "  title: Star Wars\n",
      "  url: http://www.imdb.com/title/tt0076759/\n",
      "  year: 1977\n",
      "\n"
     ]
    }
   ],
   "source": [
    "yamldata = yaml.dump([dict(zip(fields, m)) for m in movies],\n",
    "                     default_flow_style=False)\n",
    "print(yamldata)"
   ]
  },
  {
   "cell_type": "markdown",
   "metadata": {
    "slideshow": {
     "slide_type": "slide"
    }
   },
   "source": [
    "## Pro\n",
    "\n",
    "* Leicht les- *und* schreibbares Textformat für Datensätze, z.B. als Ersatz für CSV\n",
    "* Automatische Typerkennung\n",
    "* (De-)Serialisierung leicht erweiterbar"
   ]
  },
  {
   "cell_type": "markdown",
   "metadata": {
    "slideshow": {
     "slide_type": "slide"
    }
   },
   "source": [
    "## Contra\n",
    "\n",
    "* Non-Standard-Library Modul\n",
    "* Relativ langsam (z.B. nicht als Messaging-Format geeignet)\n",
    "* Serialisierung etwas un-intuitiv\n",
    "* Namedtuple: keine Default-Werte für fehlende Datenfelder "
   ]
  },
  {
   "cell_type": "markdown",
   "metadata": {
    "slideshow": {
     "slide_type": "slide"
    }
   },
   "source": [
    "## Fragen?"
   ]
  },
  {
   "cell_type": "markdown",
   "metadata": {
    "slideshow": {
     "slide_type": "fragment"
    }
   },
   "source": [
    "> https://github.com/SpotlightKid/yaml-structured-data\n",
    "\n",
    "<a rel=\"license\" href=\"http://creativecommons.org/licenses/by-sa/4.0/\"><img alt=\"Creative Commons Lizenzvertrag\" style=\"border-width:0\" src=\"https://i.creativecommons.org/l/by-sa/4.0/88x31.png\" /></a><br /><span xmlns:dct=\"http://purl.org/dc/terms/\" property=\"dct:title\">Strukturierte Daten mit YAML</span> von <a xmlns:cc=\"http://creativecommons.org/ns#\" href=\"http://chrisarndt.de/\" property=\"cc:attributionName\" rel=\"cc:attributionURL\">Christopher Arndt</a> ist lizenziert unter einer <a rel=\"license\" href=\"http://creativecommons.org/licenses/by-sa/4.0/\">Creative Commons Namensnennung - Weitergabe unter gleichen Bedingungen 4.0 International Lizenz</a>.\n"
   ]
  }
 ],
 "metadata": {
  "celltoolbar": "Slideshow",
  "kernelspec": {
   "display_name": "Python 3",
   "language": "python",
   "name": "python3"
  },
  "language_info": {
   "codemirror_mode": {
    "name": "ipython",
    "version": 3
   },
   "file_extension": ".py",
   "mimetype": "text/x-python",
   "name": "python",
   "nbconvert_exporter": "python",
   "pygments_lexer": "ipython3",
   "version": "3.4.3"
  }
 },
 "nbformat": 4,
 "nbformat_minor": 0
}
